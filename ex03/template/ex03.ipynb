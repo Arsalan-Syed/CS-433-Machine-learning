{
 "cells": [
  {
   "cell_type": "code",
   "execution_count": 254,
   "metadata": {},
   "outputs": [
    {
     "name": "stdout",
     "output_type": "stream",
     "text": [
      "The autoreload extension is already loaded. To reload it, use:\n",
      "  %reload_ext autoreload\n"
     ]
    }
   ],
   "source": [
    "# Useful starting lines\n",
    "%matplotlib inline\n",
    "import numpy as np\n",
    "import matplotlib.pyplot as plt\n",
    "from plots import *\n",
    "%load_ext autoreload\n",
    "%autoreload 2"
   ]
  },
  {
   "cell_type": "markdown",
   "metadata": {},
   "source": [
    "# 1 Least squares and linear basis functions models\n",
    "## 1.1 Least squares"
   ]
  },
  {
   "cell_type": "code",
   "execution_count": 305,
   "metadata": {
    "collapsed": true
   },
   "outputs": [],
   "source": [
    "def least_squares(y, tx):\n",
    "    N=y.shape[0]\n",
    "    txt=np.transpose(tx)    \n",
    "    w=(np.linalg.inv(txt@tx))@txt@y\n",
    "    #w=np.linalg.pinv()\n",
    "    #mse=1/(2*N)*(np.transpose(error)@error)\n",
    "    return w\n",
    "   #tx = tilde X has a columns of 1\n",
    "   "
   ]
  },
  {
   "cell_type": "markdown",
   "metadata": {},
   "source": [
    "### Load the data\n",
    "Here we will reuse the dataset `height_weight_genders.csv` from previous exercise section to check the correctness of your implementation. Please compare it with your previous result."
   ]
  },
  {
   "cell_type": "code",
   "execution_count": 306,
   "metadata": {
    "collapsed": true
   },
   "outputs": [],
   "source": [
    "from helpers import *\n",
    "import sys\n",
    "def test_your_least_squares():\n",
    "    height, weight, gender = load_data_from_ex02(sub_sample=False, add_outlier=False)\n",
    "    x, mean_x, std_x = standardize(height)\n",
    "    y, tx = build_model_data(x, weight)\n",
    "\n",
    "    # ***************************************************\n",
    "    # INSERT YOUR CODE HERE\n",
    "    # least square or grid search: TODO\n",
    "    # this code should compare the optimal weights obtained \n",
    "    # by least squares vs. grid search\n",
    "    # ***************************************************\n",
    "    N=y.shape[0]\n",
    "    minLoss=sys.maxsize\n",
    "    minWeights=[0,0]\n",
    "    for i in range (-10,10):\n",
    "        for j in range(-10,10):\n",
    "            w=[i,j]\n",
    "            error=y-tx@w\n",
    "            errorT=np.transpose(error)\n",
    "            loss=1/(2*N)*errorT@error\n",
    "            if(loss<minLoss):\n",
    "                minWeights=w\n",
    "                minLoss=loss\n",
    "    print(minLoss)\n",
    "    print(minWeights)\n",
    "    return least_squares(y,tx)"
   ]
  },
  {
   "cell_type": "markdown",
   "metadata": {},
   "source": [
    "Test it here"
   ]
  },
  {
   "cell_type": "code",
   "execution_count": 307,
   "metadata": {},
   "outputs": [
    {
     "name": "stdout",
     "output_type": "stream",
     "text": [
      "2092.27400283\n",
      "[9, 9]\n",
      "[ 73.293922    13.47971243]\n"
     ]
    }
   ],
   "source": [
    "print(test_your_least_squares())"
   ]
  },
  {
   "cell_type": "markdown",
   "metadata": {},
   "source": [
    "## 1.2 Least squares with a linear basis function model\n",
    "Start from this section, we will use the dataset `dataEx3.csv`.\n",
    "\n",
    "### Implement polynomial basis functions"
   ]
  },
  {
   "cell_type": "code",
   "execution_count": 258,
   "metadata": {
    "scrolled": true
   },
   "outputs": [
    {
     "name": "stdout",
     "output_type": "stream",
     "text": [
      "shape of x (50,)\n",
      "shape of y (50,)\n"
     ]
    }
   ],
   "source": [
    "# load dataset\n",
    "x, y = load_data()\n",
    "print(\"shape of x {}\".format(x.shape))\n",
    "print(\"shape of y {}\".format(y.shape))"
   ]
  },
  {
   "cell_type": "code",
   "execution_count": 310,
   "metadata": {},
   "outputs": [],
   "source": [
    "def build_poly(x, degree):\n",
    "    \"\"\"polynomial basis functions for input data x, for j=0 up to j=degree.\"\"\"\n",
    "    # ***************************************************\n",
    "    # INSERT YOUR CODE HERE\n",
    "    # polynomial basis function: TODO\n",
    "    # this function should return the matrix formed\n",
    "    # by applying the polynomial basis to the input data\n",
    "    # ***************************************************\n",
    "    n=x.shape[0]\n",
    "    matr=np.ones(n,)[np.newaxis]\n",
    "\n",
    "    for i in range(1,degree+1):\n",
    "        xp=np.power(x,i)[np.newaxis]\n",
    "        matr=np.append(matr,xp,axis=0)\n",
    "    return np.transpose(matr)\n",
    "\n",
    "def compute_rmse(y, tx, w):\n",
    "    N=y.shape[0]\n",
    "    error=np.subtract(y,tx@w)\n",
    "    errorT=np.transpose(error)\n",
    "    return np.sqrt(2*1/(2*N)*errorT@error)\n",
    "\n",
    "    \n",
    "#print(build_poly(np.array([1,2,3]),3).shape)"
   ]
  },
  {
   "cell_type": "markdown",
   "metadata": {},
   "source": [
    "Let us play with polynomial regression. Note that we will use your implemented function `compute_mse`. Please copy and paste your implementation from exercise02."
   ]
  },
  {
   "cell_type": "code",
   "execution_count": 321,
   "metadata": {},
   "outputs": [],
   "source": [
    "def polynomial_regression():\n",
    "    \"\"\"Constructing the polynomial basis function expansion of the data,\n",
    "       and then running least squares regression.\"\"\"\n",
    "    # define parameters\n",
    "    degrees = [1, 3, 7, 12]\n",
    "    \n",
    "    # define the structure of the figure\n",
    "    num_row = 2\n",
    "    num_col = 2\n",
    "    f, axs = plt.subplots(num_row, num_col)\n",
    "    for ind, degree in enumerate(degrees):\n",
    "        # ***************************************************\n",
    "        # INSERT YOUR CODE HERE\n",
    "        # form the data to do polynomial regression.: TODO\n",
    "        # ***************************************************\n",
    "        poly=build_poly(x,degree)\n",
    "       # raise NotImplementedError\n",
    "        # ***************************************************\n",
    "        # INSERT YOUR CODE HERE\n",
    "        # least square and calculate RMSE: TODO\n",
    "        # ***************************************************\n",
    "       # raise NotImplementedError\n",
    "        weights=least_squares(y, poly)\n",
    "        rmse=compute_rmse(y, poly, weights)\n",
    "\n",
    "        print(\"Processing {i}th experiment, degree={d}, rmse={loss}\".format(\n",
    "              i=ind + 1, d=degree, loss=rmse))\n",
    "        # plot fit\n",
    "        plot_fitted_curve(\n",
    "            y, x, weights, degree, axs[ind // num_col][ind % num_col])\n",
    "    plt.tight_layout()\n",
    "    plt.savefig(\"visualize_polynomial_regression\")\n",
    "    plt.show()"
   ]
  },
  {
   "cell_type": "markdown",
   "metadata": {},
   "source": [
    "Run polynomial regression"
   ]
  },
  {
   "cell_type": "code",
   "execution_count": 322,
   "metadata": {},
   "outputs": [
    {
     "name": "stdout",
     "output_type": "stream",
     "text": [
      "Processing 1th experiment, degree=1, rmse=0.47187607963421874\n",
      "Processing 2th experiment, degree=3, rmse=0.25858277667737495\n",
      "Processing 3th experiment, degree=7, rmse=0.24965870360908424\n",
      "Processing 4th experiment, degree=12, rmse=0.926829452649977\n"
     ]
    },
    {
     "data": {
      "image/png": "[encoded data removed]",
      "text/plain": [
       "<matplotlib.figure.Figure at 0x1b380d41b70>"
      ]
     },
     "metadata": {},
     "output_type": "display_data"
    }
   ],
   "source": [
    "polynomial_regression()"
   ]
  },
  {
   "cell_type": "markdown",
   "metadata": {},
   "source": [
    "# 2 Evaluating model predication performance\n",
    "\n",
    "\n",
    "from randomLet us show the train and test splits for various polynomial degrees. First of all, please fill in the function `split_data()`"
   ]
  },
  {
   "cell_type": "code",
   "execution_count": 415,
   "metadata": {
    "collapsed": true
   },
   "outputs": [],
   "source": [
    "from random import shuffle\n",
    "\n",
    "def split_data(x, y, ratio, seed=1):\n",
    "    \"\"\"\n",
    "    split the dataset based on the split ratio. If ratio is 0.8 \n",
    "    you will have 80% of your data set dedicated to training \n",
    "    and the rest dedicated to testing\n",
    "    \"\"\"\n",
    "    # set seed\n",
    "    #need to shuffle them\n",
    "    np.random.seed(seed)\n",
    "    \n",
    "    # ***************************************************\n",
    "    # INSERT YOUR CODE HERE\n",
    "    # split the data based on the given ratio: TODO\n",
    "    # ***************************************************\n",
    "    N=x.shape[0]\n",
    "    \n",
    "    shuffle(x)\n",
    "    shuffle(y)\n",
    "    \n",
    "    numTrain=(int)(np.round(ratio*N))\n",
    "    numTest=N-numTrain\n",
    "    trainX=x[0:numTrain]\n",
    "    trainY=y[0:numTrain]\n",
    "    testX=x[numTrain+1:N]\n",
    "    testY=y[numTrain+1:N]\n",
    "    return [trainX,trainY,testX,testY]"
   ]
  },
  {
   "cell_type": "markdown",
   "metadata": {},
   "source": [
    "Then, test your `split_data` function below."
   ]
  },
  {
   "cell_type": "code",
   "execution_count": 416,
   "metadata": {},
   "outputs": [],
   "source": [
    "def train_test_split_demo(x, y, degree, ratio, seed):\n",
    "    \"\"\"polynomial regression with different split ratios and different degrees.\"\"\"\n",
    "    # ***************************************************\n",
    "    # INSERT YOUR CODE HERE\n",
    "    # split the data, and return train and test data: TODO\n",
    "    # ***************************************************\n",
    "    trainX,trainY,testX,testY=split_data(x,y,ratio)\n",
    "    # ***************************************************\n",
    "    # INSERT YOUR CODE HERE\n",
    "    # form train and test data with polynomial basis function: TODO\n",
    "    # ***************************************************\n",
    "    pTrainX=build_poly(trainX, degree)\n",
    "    pTestX=build_poly(testX,degree)\n",
    "    # ***************************************************\n",
    "    # INSERT YOUR CODE HERE\n",
    "    # calcualte weight through least square.: TODO\n",
    "    # ***************************************************\n",
    "    wTrain=least_squares(trainY, pTrainX)\n",
    "    wTest=least_squares(testY, pTestX)\n",
    "    # ***************************************************\n",
    "    # INSERT YOUR CODE HERE\n",
    "    # calculate RMSE for train and test data,\n",
    "    # and store them in rmse_tr and rmse_te respectively: TODO\n",
    "    # ***************************************************\n",
    "    rmse_tr=compute_rmse(trainY,pTrainX, wTrain)\n",
    "    rmse_te=compute_rmse(testY,pTestX, wTest)\n",
    "    print(\"proportion={p}, degree={d}, Training RMSE={tr:.3f}, Testing RMSE={te:.3f}\".format(\n",
    "          p=ratio, d=degree, tr=rmse_tr, te=rmse_te))\n"
   ]
  },
  {
   "cell_type": "code",
   "execution_count": 417,
   "metadata": {
    "scrolled": true
   },
   "outputs": [
    {
     "name": "stdout",
     "output_type": "stream",
     "text": [
      "proportion=0.9, degree=1, Training RMSE=0.706, Testing RMSE=0.680\n",
      "proportion=0.9, degree=3, Training RMSE=0.653, Testing RMSE=0.000\n",
      "proportion=0.9, degree=7, Training RMSE=0.655, Testing RMSE=0.346\n",
      "proportion=0.9, degree=12, Training RMSE=0.671, Testing RMSE=1.813\n",
      "\n",
      "proportion=0.5, degree=1, Training RMSE=0.778, Testing RMSE=0.600\n",
      "proportion=0.5, degree=3, Training RMSE=0.665, Testing RMSE=0.703\n",
      "proportion=0.5, degree=7, Training RMSE=0.638, Testing RMSE=0.586\n",
      "proportion=0.5, degree=12, Training RMSE=0.496, Testing RMSE=2.180\n",
      "\n",
      "proportion=0.1, degree=1, Training RMSE=0.487, Testing RMSE=0.710\n",
      "proportion=0.1, degree=3, Training RMSE=0.389, Testing RMSE=0.664\n",
      "proportion=0.1, degree=7, Training RMSE=0.366, Testing RMSE=0.577\n",
      "proportion=0.1, degree=12, Training RMSE=2.200, Testing RMSE=0.645\n",
      "\n"
     ]
    }
   ],
   "source": [
    "seed = 6\n",
    "degrees = [1, 3, 7, 12]\n",
    "split_ratios = [0.9, 0.5, 0.1]\n",
    "\n",
    "for split_ratio in split_ratios:\n",
    "    for degree in degrees:\n",
    "        train_test_split_demo(x, y, degree, split_ratio, seed)\n",
    "    print()"
   ]
  },
  {
   "cell_type": "markdown",
   "metadata": {},
   "source": [
    "# 3 Ridge Regression\n",
    "Please fill in the function below."
   ]
  },
  {
   "cell_type": "code",
   "execution_count": 422,
   "metadata": {},
   "outputs": [],
   "source": [
    "from functools import reduce\n",
    "\n",
    "def ridge_regression(y, tx,lambda_):\n",
    "    \"\"\"implement ridge regression.\"\"\"\n",
    "    # ***************************************************\n",
    "    # INSERT YOUR CODE HERE\n",
    "    # ridge regression: TODO\n",
    "    # ***************************************************\n",
    "    w=least_squares(y, tx)\n",
    "    N=y.shape[0]\n",
    "    error=np.subtract(y,tx@w)\n",
    "    errorT=np.transpose(error)\n",
    "    l2Norm=lambda_*np.sum(w**2)\n",
    "    return np.sqrt(1/(N)*errorT@error)+l2Norm\n",
    "   "
   ]
  },
  {
   "cell_type": "code",
   "execution_count": 432,
   "metadata": {
    "collapsed": true
   },
   "outputs": [],
   "source": [
    "def ridge_regression_demo(x, y, degree, ratio, seed):\n",
    "    \"\"\"ridge regression demo.\"\"\"\n",
    "    # define parameter\n",
    "    lambdas = np.logspace(-5, 0, 15)\n",
    "    # ***************************************************\n",
    "    # INSERT YOUR CODE HERE\n",
    "    # split the data, and return train and test data: TODO\n",
    "    # ***************************************************\n",
    "    trainX,trainY,testX,testY=split_data(x, y, ratio)\n",
    "    # ***************************************************\n",
    "    # INSERT YOUR CODE HERE\n",
    "    # form train and test data with polynomial basis function: TODO\n",
    "    # ***************************************************\n",
    "    pTrainX=build_poly(trainX, degree)\n",
    "    pTestX=build_poly(testX,degree)\n",
    "\n",
    "    rmse_tr = []\n",
    "    rmse_te = []\n",
    "    for ind, lambda_ in enumerate(lambdas):\n",
    "        # ***************************************************\n",
    "        # INSERT YOUR CODE HERE\n",
    "        # ridge regression with a given lambda\n",
    "        # ***************************************************\n",
    "        rmse_tr.append(ridge_regression(trainY, pTrainX,lambda_))\n",
    "        rmse_te.append(ridge_regression(testY, pTestX,lambda_))\n",
    "        \n",
    "        print(\"proportion={p}, degree={d}, lambda={l:.3f}, Training RMSE={tr:.3f}, Testing RMSE={te:.3f}\".format(\n",
    "               p=ratio, d=degree, l=lambda_, tr=rmse_tr[ind], te=rmse_te[ind]))\n",
    "        \n",
    "    # Plot the obtained results\n",
    "    plot_train_test(rmse_tr, rmse_te, lambdas, degree)\n",
    "\n"
   ]
  },
  {
   "cell_type": "code",
   "execution_count": 437,
   "metadata": {},
   "outputs": [
    {
     "name": "stdout",
     "output_type": "stream",
     "text": [
      "proportion=0.5, degree=7, lambda=0.000, Training RMSE=0.436, Testing RMSE=0.592\n",
      "proportion=0.5, degree=7, lambda=0.000, Training RMSE=0.454, Testing RMSE=0.593\n",
      "proportion=0.5, degree=7, lambda=0.000, Training RMSE=0.496, Testing RMSE=0.595\n",
      "proportion=0.5, degree=7, lambda=0.000, Training RMSE=0.589, Testing RMSE=0.600\n",
      "proportion=0.5, degree=7, lambda=0.000, Training RMSE=0.803, Testing RMSE=0.611\n",
      "proportion=0.5, degree=7, lambda=0.001, Training RMSE=1.289, Testing RMSE=0.637\n",
      "proportion=0.5, degree=7, lambda=0.001, Training RMSE=2.396, Testing RMSE=0.696\n",
      "proportion=0.5, degree=7, lambda=0.003, Training RMSE=4.915, Testing RMSE=0.829\n",
      "proportion=0.5, degree=7, lambda=0.007, Training RMSE=10.647, Testing RMSE=1.133\n",
      "proportion=0.5, degree=7, lambda=0.016, Training RMSE=23.692, Testing RMSE=1.825\n",
      "proportion=0.5, degree=7, lambda=0.037, Training RMSE=53.382, Testing RMSE=3.400\n",
      "proportion=0.5, degree=7, lambda=0.085, Training RMSE=120.950, Testing RMSE=6.983\n",
      "proportion=0.5, degree=7, lambda=0.193, Training RMSE=274.726, Testing RMSE=15.139\n",
      "proportion=0.5, degree=7, lambda=0.439, Training RMSE=624.695, Testing RMSE=33.699\n",
      "proportion=0.5, degree=7, lambda=1.000, Training RMSE=1421.171, Testing RMSE=75.941\n"
     ]
    },
    {
     "data": {
      "image/png": "[encoded data removed]",
      "text/plain": [
       "<matplotlib.figure.Figure at 0x1b38095bdd8>"
      ]
     },
     "metadata": {},
     "output_type": "display_data"
    }
   ],
   "source": [
    "seed = 56\n",
    "degree = 7\n",
    "split_ratio = 0.5\n",
    "ridge_regression_demo(x, y, degree, split_ratio, seed)"
   ]
  },
  {
   "cell_type": "code",
   "execution_count": 413,
   "metadata": {},
   "outputs": [
    {
     "data": {
      "text/plain": [
       "0.69569825736974766"
      ]
     },
     "execution_count": 413,
     "metadata": {},
     "output_type": "execute_result"
    }
   ],
   "source": [
    "x,y=load_data()\n",
    "tx=build_poly(x,2)\n",
    "ridge_regression(y,tx,0.5)"
   ]
  },
  {
   "cell_type": "code",
   "execution_count": null,
   "metadata": {
    "collapsed": true
   },
   "outputs": [],
   "source": []
  }
 ],
 "metadata": {
  "anaconda-cloud": {},
  "kernelspec": {
   "display_name": "Python 3",
   "language": "python",
   "name": "python3"
  },
  "language_info": {
   "codemirror_mode": {
    "name": "ipython",
    "version": 3
   },
   "file_extension": ".py",
   "mimetype": "text/x-python",
   "name": "python",
   "nbconvert_exporter": "python",
   "pygments_lexer": "ipython3",
   "version": "3.6.1"
  }
 },
 "nbformat": 4,
 "nbformat_minor": 1
}
